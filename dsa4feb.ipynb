{
 "cells": [
  {
   "cell_type": "code",
   "execution_count": 21,
   "metadata": {},
   "outputs": [
    {
     "name": "stdout",
     "output_type": "stream",
     "text": [
      "[('Jack Kallis', 25534), ('Ricky Ponting', 27483), ('Sachin Tendulkar', 34357), ('Virat Kohli', 249399)]\n"
     ]
    }
   ],
   "source": [
    "#1\n",
    "sampleList=[('Sachin Tendulkar', 34357), ('Ricky Ponting', 27483), ('Jack Kallis', 25534), ('Virat Kohli', 249399)]\n",
    "sortedList = lambda l:sorted(l, key=lambda x:x[1])\n",
    "print(list(sortedList(sampleList)))    \n",
    "\n"
   ]
  },
  {
   "cell_type": "code",
   "execution_count": 7,
   "metadata": {},
   "outputs": [
    {
     "name": "stdout",
     "output_type": "stream",
     "text": [
      "[1, 4, 9, 16, 25, 36, 49, 64, 81, 100]\n",
      "[1, 4, 9, 16, 25, 36, 49, 64, 81, 100]\n"
     ]
    }
   ],
   "source": [
    "#2\n",
    "l=[1, 2, 3, 4, 5, 6, 7, 8, 9, 10]\n",
    "lsquare = map(lambda a:a**2, l)\n",
    "print(list(lsquare))\n",
    "\n",
    "\n",
    "#using lambda :-\n",
    "listsq = lambda l: [i**2 for i in l]\n",
    "print(listsq(l))"
   ]
  },
  {
   "cell_type": "code",
   "execution_count": 16,
   "metadata": {},
   "outputs": [
    {
     "name": "stdout",
     "output_type": "stream",
     "text": [
      "('1', '2', '3', '4', '5', '6', '7', '8', '9', '10')\n",
      "('1', '2', '3', '4', '5', '6', '7', '8', '9', '10')\n"
     ]
    }
   ],
   "source": [
    "#3\n",
    "numlist=[1, 2, 3, 4, 5, 6, 7, 8, 9, 10]\n",
    "#convert into tuple using lambda:\n",
    "numToTuple = lambda l : tuple(str(a) for a in l)\n",
    "print(numToTuple(numlist))\n",
    "\n",
    "#convert into tuple using map:\n",
    "numTuple = tuple(map(lambda a: str(a), numlist))\n",
    "\n",
    "print((numTuple))"
   ]
  },
  {
   "cell_type": "code",
   "execution_count": 19,
   "metadata": {},
   "outputs": [
    {
     "name": "stdout",
     "output_type": "stream",
     "text": [
      "15511210043330985984000000\n"
     ]
    }
   ],
   "source": [
    "#4 product of items in list:\n",
    "import functools\n",
    "pdtOfFirst25 = functools.reduce(lambda a,b: a*b , range(1,26) )\n",
    "print (pdtOfFirst25)"
   ]
  },
  {
   "cell_type": "code",
   "execution_count": 25,
   "metadata": {},
   "outputs": [
    {
     "name": "stdout",
     "output_type": "stream",
     "text": [
      "[6, 60, 90, 120]\n"
     ]
    }
   ],
   "source": [
    "#5 filter nos divisible by  2 and 3\n",
    "randomlist = [2, 3, 6, 9, 27, 60, 90, 120, 55, 46]\n",
    "result = list(filter(lambda a: a%2==0 and a%3==0, randomlist))\n",
    "print(result)"
   ]
  },
  {
   "cell_type": "code",
   "execution_count": 38,
   "metadata": {},
   "outputs": [
    {
     "name": "stdout",
     "output_type": "stream",
     "text": [
      "['php', 'aba', 'radar', 'level']\n",
      "[None, 'php', 'aba', 'radar', 'level']\n"
     ]
    }
   ],
   "source": [
    "#6 palindrome\n",
    "listOfStrings=['python', 'php', 'aba', 'radar', 'level']\n",
    "\n",
    "palList= list(filter(lambda a:''.join(reversed(a))==a, listOfStrings))\n",
    "print(palList)\n",
    "\n",
    "#using lambda:\n",
    "getPal= lambda l: list(i if (i== ''.join(reversed(i)) ) else None for i in listOfStrings)\n",
    "print(list(getPal(listOfStrings)))"
   ]
  },
  {
   "cell_type": "code",
   "execution_count": null,
   "metadata": {},
   "outputs": [],
   "source": []
  }
 ],
 "metadata": {
  "kernelspec": {
   "display_name": "Python 3",
   "language": "python",
   "name": "python3"
  },
  "language_info": {
   "codemirror_mode": {
    "name": "ipython",
    "version": 3
   },
   "file_extension": ".py",
   "mimetype": "text/x-python",
   "name": "python",
   "nbconvert_exporter": "python",
   "pygments_lexer": "ipython3",
   "version": "3.11.1"
  },
  "orig_nbformat": 4,
  "vscode": {
   "interpreter": {
    "hash": "5238573367df39f7286bb46f9ff5f08f63a01a80960060ce41e3c79b190280fa"
   }
  }
 },
 "nbformat": 4,
 "nbformat_minor": 2
}
